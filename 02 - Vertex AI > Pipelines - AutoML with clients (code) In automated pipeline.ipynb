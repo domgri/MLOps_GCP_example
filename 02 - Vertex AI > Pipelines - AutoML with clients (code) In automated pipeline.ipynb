{
 "cells": [
  {
   "cell_type": "markdown",
   "id": "3cebabe4",
   "metadata": {},
   "source": [
    "# 02 - Vertex AI > Pipelines - AutoML with clients (code) In automated pipeline\n",
    "\n",
    "Taken and adapted from [Vertex Ai Mlops](https://github.com/statmike/vertex-ai-mlops), [Vertex AI Pipelines](https://github.com/GoogleCloudPlatform/vertex-ai-samples/blob/main/notebooks/official/model_evaluation/automl_tabular_classification_model_evaluation.ipynb).\n"
   ]
  },
  {
   "cell_type": "markdown",
   "id": "f00128b5-aaf0-4c04-a0fe-3cd8b5fc7f56",
   "metadata": {},
   "source": [
    "## Installation\n",
    "\n",
    "Install the latest version of Vertex AI SDK for Python."
   ]
  },
  {
   "cell_type": "code",
   "execution_count": 1,
   "id": "b914e54f-7e35-4c01-b82e-9905a8ee7d47",
   "metadata": {},
   "outputs": [],
   "source": [
    "import os\n",
    "\n",
    "# The Vertex AI Workbench Notebook product has specific requirements\n",
    "IS_WORKBENCH_NOTEBOOK = os.getenv(\"DL_ANACONDA_HOME\") and not os.getenv(\"VIRTUAL_ENV\")\n",
    "IS_USER_MANAGED_WORKBENCH_NOTEBOOK = os.path.exists(\n",
    "    \"/opt/deeplearning/metadata/env_version\"\n",
    ")\n",
    "\n",
    "# Vertex AI Notebook requires dependencies to be installed with '--user'\n",
    "USER_FLAG = \"\"\n",
    "if IS_WORKBENCH_NOTEBOOK:\n",
    "    USER_FLAG = \"--user\"\n",
    "\n",
    "! pip3 install --upgrade {USER_FLAG} google-cloud-aiplatform \\\n",
    "                                    google-cloud-storage \\\n",
    "                                    kfp \\\n",
    "                                    google-cloud-pipeline-components -q"
   ]
  },
  {
   "cell_type": "markdown",
   "id": "5701891d-1fc9-4421-be60-e81bf82717da",
   "metadata": {},
   "source": [
    "### Restart the kernel\n",
    "\n",
    "Once you've installed the additional packages, you need to restart the notebook kernel so it can find the packages."
   ]
  },
  {
   "cell_type": "code",
   "execution_count": 2,
   "id": "dd8eb88a-ea5f-4a62-a332-511e47733d60",
   "metadata": {},
   "outputs": [],
   "source": [
    "import os\n",
    "\n",
    "if not os.getenv(\"IS_TESTING\"):\n",
    "    # Automatically restart kernel after installs\n",
    "    import IPython\n",
    "\n",
    "    app = IPython.Application.instance()\n",
    "    app.kernel.do_shutdown(True)"
   ]
  },
  {
   "cell_type": "markdown",
   "id": "d4f7f473-513d-473f-9c3a-08164044faf7",
   "metadata": {},
   "source": [
    "### Check the package versions\n",
    "\n",
    "Check the versions of the packages you installed.  The KFP SDK version should be >=1.8."
   ]
  },
  {
   "cell_type": "code",
   "execution_count": 1,
   "id": "656f463b-bb30-4679-bd71-5469899b0884",
   "metadata": {},
   "outputs": [
    {
     "name": "stdout",
     "output_type": "stream",
     "text": [
      "KFP SDK version: 1.8.18\n",
      "google_cloud_pipeline_components version: 1.0.32\n"
     ]
    }
   ],
   "source": [
    "! python3 -c \"import kfp; print('KFP SDK version: {}'.format(kfp.__version__))\"\n",
    "! python3 -c \"import google_cloud_pipeline_components; print('google_cloud_pipeline_components version: {}'.format(google_cloud_pipeline_components.__version__))\""
   ]
  },
  {
   "cell_type": "markdown",
   "id": "229cef71",
   "metadata": {},
   "source": [
    "---\n",
    "## Setup"
   ]
  },
  {
   "cell_type": "markdown",
   "id": "4b6b82e4",
   "metadata": {},
   "source": [
    "inputs:"
   ]
  },
  {
   "cell_type": "code",
   "execution_count": 2,
   "id": "63e4ffbd-4d77-4074-b84a-a9a10fe0b606",
   "metadata": {},
   "outputs": [
    {
     "data": {
      "text/plain": [
       "'heart-disease-classification-1'"
      ]
     },
     "execution_count": 2,
     "metadata": {},
     "output_type": "execute_result"
    }
   ],
   "source": [
    "project = !gcloud config get-value project\n",
    "PROJECT_ID = project[0]\n",
    "PROJECT_ID"
   ]
  },
  {
   "cell_type": "code",
   "execution_count": 3,
   "id": "b255bf32",
   "metadata": {},
   "outputs": [],
   "source": [
    "REGION = 'europe-west1'\n",
    "DATANAME = 'heart'\n",
    "NOTEBOOK = 'pipeline'\n",
    "\n",
    "# Resources\n",
    "DEPLOY_COMPUTE = 'n1-standard-2'\n",
    "\n",
    "# Model Training\n",
    "VAR_TARGET = 'HeartDiseaseorAttack'\n",
    "VAR_OMIT = 'transaction_id' # add more variables to the string with space delimiters"
   ]
  },
  {
   "cell_type": "markdown",
   "id": "00693f36",
   "metadata": {},
   "source": [
    "packages:"
   ]
  },
  {
   "cell_type": "code",
   "execution_count": 7,
   "id": "845cc9e5-85c2-4b13-a412-60473cd941f3",
   "metadata": {},
   "outputs": [],
   "source": [
    "from typing import NamedTuple\n",
    "\n",
    "import kfp\n",
    "from google.cloud import aiplatform\n",
    "from kfp.v2 import dsl\n",
    "from kfp.v2.dsl import (Artifact, ClassificationMetrics, Input, Metrics,\n",
    "                        Output, component)\n",
    "from datetime import datetime\n",
    "from google.cloud import bigquery\n",
    "from google.protobuf import json_format\n",
    "from google.protobuf.struct_pb2 import Value\n",
    "import json\n",
    "import numpy as np"
   ]
  },
  {
   "cell_type": "markdown",
   "id": "b01a4860",
   "metadata": {},
   "source": [
    "clients:"
   ]
  },
  {
   "cell_type": "code",
   "execution_count": 10,
   "id": "d0f88c50",
   "metadata": {},
   "outputs": [],
   "source": [
    "bq = bigquery.Client()"
   ]
  },
  {
   "cell_type": "markdown",
   "id": "8d14fbbc",
   "metadata": {},
   "source": [
    "parameters:"
   ]
  },
  {
   "cell_type": "code",
   "execution_count": 11,
   "id": "f65b2223",
   "metadata": {},
   "outputs": [],
   "source": [
    "TIMESTAMP = datetime.now().strftime(\"%Y%m%d%H%M%S\")\n",
    "BUCKET = PROJECT_ID\n",
    "BUCKET_URI = f\"gs://{BUCKET}/{DATANAME}/models/{NOTEBOOK}\"\n",
    "DIR = f\"temp/{NOTEBOOK}\""
   ]
  },
  {
   "cell_type": "code",
   "execution_count": 12,
   "id": "2c68630e-4fe3-473d-abb3-16d39fb782e8",
   "metadata": {},
   "outputs": [
    {
     "data": {
      "text/plain": [
       "'653408334039-compute@developer.gserviceaccount.com'"
      ]
     },
     "execution_count": 12,
     "metadata": {},
     "output_type": "execute_result"
    }
   ],
   "source": [
    "SERVICE_ACCOUNT = !gcloud config list --format='value(core.account)' \n",
    "SERVICE_ACCOUNT = SERVICE_ACCOUNT[0]\n",
    "SERVICE_ACCOUNT"
   ]
  },
  {
   "cell_type": "markdown",
   "id": "1f3a08fd-17b0-4eb1-8ab7-aea8e47b8992",
   "metadata": {},
   "source": [
    "### Initialize Vertex AI SDK for Python\n",
    "\n",
    "Initialize the Vertex AI SDK for Python for your project and corresponding bucket."
   ]
  },
  {
   "cell_type": "code",
   "execution_count": 14,
   "id": "8a00147e-46d2-4618-a67f-be37e8417aa3",
   "metadata": {},
   "outputs": [],
   "source": [
    "aiplatform.init(project=PROJECT_ID, location=REGION, staging_bucket=BUCKET_URI)"
   ]
  },
  {
   "cell_type": "markdown",
   "id": "d1d35908-9b69-40be-97dc-fb4fb0279709",
   "metadata": {},
   "source": [
    "List the service accounts current roles:"
   ]
  },
  {
   "cell_type": "code",
   "execution_count": 15,
   "id": "a9f46306-bd55-425a-951a-fd2753807b91",
   "metadata": {},
   "outputs": [
    {
     "name": "stdout",
     "output_type": "stream",
     "text": [
      "ROLE\n",
      "roles/editor\n",
      "roles/storage.objectAdmin\n"
     ]
    }
   ],
   "source": [
    "!gcloud projects get-iam-policy $PROJECT_ID --filter=\"bindings.members:$SERVICE_ACCOUNT\" --format='table(bindings.role)' --flatten=\"bindings[].members\""
   ]
  },
  {
   "cell_type": "markdown",
   "id": "e8343a71-3484-4352-9753-ec045cb6dfc5",
   "metadata": {},
   "source": [
    ">Note: If the resulting list is missing [roles/storage.objectAdmin](https://cloud.google.com/storage/docs/access-control/iam-roles) then [revisit the setup notebook](../00%20-%20Setup/00%20-%20Environment%20Setup.ipynb#permissions) and add this permission to the service account with the provided instructions."
   ]
  },
  {
   "cell_type": "markdown",
   "id": "10f15187",
   "metadata": {},
   "source": [
    "environment:"
   ]
  },
  {
   "cell_type": "code",
   "execution_count": 16,
   "id": "f7383876",
   "metadata": {},
   "outputs": [],
   "source": [
    "!rm -rf {DIR}\n",
    "!mkdir -p {DIR}"
   ]
  },
  {
   "cell_type": "markdown",
   "id": "c08c3499",
   "metadata": {},
   "source": [
    "---\n",
    "## Pipeline (KFP) Definition\n",
    "- Flow\n",
    "    - Create Vertex AI Dataset from link to BigQuery table\n",
    "    - Create Vertex AI AutoML Tabular Training Job\n",
    "    - Create Endpoint and Depoy trained model\n",
    "    \n",
    "Use [AI Platform Pipeline Components](https://google-cloud-pipeline-components.readthedocs.io/en/google-cloud-pipeline-components-0.2.0/)\n",
    "- Specifically, [AutoMLTabularTrainingJobRunOp](https://google-cloud-pipeline-components.readthedocs.io/en/google-cloud-pipeline-components-0.2.0/google_cloud_pipeline_components.aiplatform.html#google_cloud_pipeline_components.aiplatform.AutoMLTabularTrainingJobRunOp)\n",
    "\n",
    "Define a Job:\n",
    "- Consider Weighting\n",
    "- Model Type\n",
    "- Optimization Objective"
   ]
  },
  {
   "cell_type": "code",
   "execution_count": 18,
   "id": "94020bdb-fc42-4b5c-98f1-8d525f01aae5",
   "metadata": {},
   "outputs": [
    {
     "data": {
      "text/plain": [
       "'kfp-pipeline-heart-20230108134728'"
      ]
     },
     "execution_count": 18,
     "metadata": {},
     "output_type": "execute_result"
    }
   ],
   "source": [
    "# set path for storing the pipeline artifacts\n",
    "PIPELINE_NAME = f'kfp-{NOTEBOOK}-{DATANAME}-{TIMESTAMP}'\n",
    "\n",
    "PIPELINE_ROOT = BUCKET_URI+'/'+str(TIMESTAMP)+'/kfp/'\n",
    "PIPELINE_NAME"
   ]
  },
  {
   "cell_type": "code",
   "execution_count": 19,
   "id": "eb85abc1",
   "metadata": {},
   "outputs": [],
   "source": [
    "@kfp.dsl.pipeline(\n",
    "    name = PIPELINE_NAME,\n",
    "    pipeline_root = PIPELINE_ROOT\n",
    ")\n",
    "def pipeline(\n",
    "    project: str,\n",
    "    dataname: str,\n",
    "    display_name: str,\n",
    "    deploy_machine: str,\n",
    "    bq_source: str,\n",
    "    var_target: str,\n",
    "    var_omit: str,\n",
    "    features: dict,\n",
    "    labels: dict \n",
    "):\n",
    "    \n",
    "    from google_cloud_pipeline_components.aiplatform import (\n",
    "        AutoMLTabularTrainingJobRunOp, EndpointCreateOp, ModelDeployOp,\n",
    "        TabularDatasetCreateOp)\n",
    "    \n",
    "    # dataset\n",
    "    dataset = TabularDatasetCreateOp(\n",
    "        project = project,\n",
    "        display_name = display_name,\n",
    "        bq_source = bq_source,\n",
    "        labels = labels\n",
    "    )\n",
    "    \n",
    "    # training\n",
    "    model = AutoMLTabularTrainingJobRunOp(\n",
    "        project = project,\n",
    "        display_name = display_name,\n",
    "        optimization_prediction_type = \"classification\",\n",
    "        optimization_objective = \"maximize-au-prc\",\n",
    "        budget_milli_node_hours = 1000,\n",
    "        disable_early_stopping=False,\n",
    "        column_specs = features,\n",
    "        dataset = dataset.outputs['dataset'],\n",
    "        target_column = var_target,\n",
    "        predefined_split_column_name = 'splits',\n",
    "        labels = labels\n",
    "    )\n",
    "    \n",
    "    # Endpoint: Creation\n",
    "    endpoint = EndpointCreateOp(\n",
    "        project = project,\n",
    "        display_name = display_name,\n",
    "        labels = labels\n",
    "    )\n",
    "    \n",
    "    # Endpoint: Deployment of Model\n",
    "    deployment = ModelDeployOp(\n",
    "        model = model.outputs[\"model\"],\n",
    "        endpoint = endpoint.outputs[\"endpoint\"],\n",
    "        dedicated_resources_min_replica_count = 1,\n",
    "        dedicated_resources_max_replica_count = 1,\n",
    "        traffic_split = {\"0\": 100},\n",
    "        dedicated_resources_machine_type= deploy_machine\n",
    "    )"
   ]
  },
  {
   "cell_type": "markdown",
   "id": "4bd7cda6",
   "metadata": {},
   "source": [
    "---\n",
    "## Compile Pipeline"
   ]
  },
  {
   "cell_type": "code",
   "execution_count": 20,
   "id": "db3e8ce2",
   "metadata": {},
   "outputs": [
    {
     "name": "stderr",
     "output_type": "stream",
     "text": [
      "/opt/conda/lib/python3.7/site-packages/kfp/v2/compiler/compiler.py:1293: FutureWarning: APIs imported from the v1 namespace (e.g. kfp.dsl, kfp.components, etc) will not be supported by the v2 compiler since v2.0.0\n",
      "  category=FutureWarning,\n"
     ]
    }
   ],
   "source": [
    "kfp.v2.compiler.Compiler().compile(\n",
    "    pipeline_func = pipeline,\n",
    "    package_path = f\"{DIR}/{NOTEBOOK}.json\"\n",
    ")"
   ]
  },
  {
   "cell_type": "markdown",
   "id": "72d3a04e",
   "metadata": {},
   "source": [
    "Move compiled pipeline files to GCS Bucket"
   ]
  },
  {
   "cell_type": "code",
   "execution_count": 22,
   "id": "671d4cbe",
   "metadata": {},
   "outputs": [
    {
     "name": "stdout",
     "output_type": "stream",
     "text": [
      "Copying file://temp/pipeline/pipeline.json [Content-Type=application/json]...\n",
      "/ [1 files][ 22.0 KiB/ 22.0 KiB]                                                \n",
      "Operation completed over 1 objects/22.0 KiB.                                     \n"
     ]
    }
   ],
   "source": [
    "!gsutil cp {DIR}/{NOTEBOOK}.json {BUCKET_URI}/{TIMESTAMP}/kfp/"
   ]
  },
  {
   "cell_type": "markdown",
   "id": "45241ff1",
   "metadata": {},
   "source": [
    "---\n",
    "## Create Vertex AI Pipeline Job"
   ]
  },
  {
   "cell_type": "markdown",
   "id": "9fed3319-fac1-45bb-9483-e02cfd4e0e3e",
   "metadata": {},
   "source": [
    "Get features dictionary for the pipeline input:"
   ]
  },
  {
   "cell_type": "code",
   "execution_count": 23,
   "id": "0ad629ff-3843-4e54-8a80-27bd7bb20cb7",
   "metadata": {},
   "outputs": [],
   "source": [
    "# get feature names\n",
    "query = f\"SELECT * FROM {DATANAME}.INFORMATION_SCHEMA.COLUMNS WHERE TABLE_NAME = '{DATANAME}_prepped'\"\n",
    "schema = bq.query(query).to_dataframe()\n",
    "OMIT = VAR_OMIT.split() + [VAR_TARGET, 'splits']\n",
    "features = schema[~schema.column_name.isin(OMIT)].column_name.tolist()\n",
    "features = dict.fromkeys(features, 'auto')"
   ]
  },
  {
   "cell_type": "markdown",
   "id": "0adf1a54-05f1-48f9-99e5-3de1c8f40bd5",
   "metadata": {},
   "source": [
    "Run The pipeline:"
   ]
  },
  {
   "cell_type": "code",
   "execution_count": 25,
   "id": "f5dd3e4c",
   "metadata": {},
   "outputs": [],
   "source": [
    "pipeline = aiplatform.PipelineJob(\n",
    "    display_name = f'{NOTEBOOK}_{DATANAME}_{TIMESTAMP}',\n",
    "    template_path = f\"{BUCKET_URI}/{TIMESTAMP}/kfp/{NOTEBOOK}.json\",\n",
    "    parameter_values = {\n",
    "        \"project\" : PROJECT_ID,\n",
    "        \"dataname\" : DATANAME,\n",
    "        \"display_name\" : f'{NOTEBOOK}_{DATANAME}_{TIMESTAMP}',\n",
    "        \"deploy_machine\" : DEPLOY_COMPUTE,\n",
    "        \"bq_source\" : f'bq://{PROJECT_ID}.{DATANAME}.{DATANAME}_prepped',\n",
    "        \"var_target\" : VAR_TARGET,\n",
    "        \"var_omit\" : VAR_OMIT,\n",
    "        \"features\" : features,\n",
    "        \"labels\" : {'notebook': NOTEBOOK}       \n",
    "    },\n",
    "    labels = {'notebook': NOTEBOOK},\n",
    "    enable_caching=False\n",
    ")"
   ]
  },
  {
   "cell_type": "code",
   "execution_count": null,
   "id": "5ee521df",
   "metadata": {
    "scrolled": true,
    "tags": []
   },
   "outputs": [
    {
     "name": "stdout",
     "output_type": "stream",
     "text": [
      "Creating PipelineJob\n",
      "PipelineJob created. Resource name: projects/653408334039/locations/europe-west1/pipelineJobs/kfp-pipeline-heart-20230108134728-20230108134830\n",
      "To use this PipelineJob in another session:\n",
      "pipeline_job = aiplatform.PipelineJob.get('projects/653408334039/locations/europe-west1/pipelineJobs/kfp-pipeline-heart-20230108134728-20230108134830')\n",
      "View Pipeline Job:\n",
      "https://console.cloud.google.com/vertex-ai/locations/europe-west1/pipelines/runs/kfp-pipeline-heart-20230108134728-20230108134830?project=653408334039\n",
      "PipelineJob projects/653408334039/locations/europe-west1/pipelineJobs/kfp-pipeline-heart-20230108134728-20230108134830 current state:\n",
      "PipelineState.PIPELINE_STATE_RUNNING\n",
      "PipelineJob projects/653408334039/locations/europe-west1/pipelineJobs/kfp-pipeline-heart-20230108134728-20230108134830 current state:\n",
      "PipelineState.PIPELINE_STATE_RUNNING\n",
      "PipelineJob projects/653408334039/locations/europe-west1/pipelineJobs/kfp-pipeline-heart-20230108134728-20230108134830 current state:\n",
      "PipelineState.PIPELINE_STATE_RUNNING\n",
      "PipelineJob projects/653408334039/locations/europe-west1/pipelineJobs/kfp-pipeline-heart-20230108134728-20230108134830 current state:\n",
      "PipelineState.PIPELINE_STATE_RUNNING\n",
      "PipelineJob projects/653408334039/locations/europe-west1/pipelineJobs/kfp-pipeline-heart-20230108134728-20230108134830 current state:\n",
      "PipelineState.PIPELINE_STATE_RUNNING\n",
      "PipelineJob projects/653408334039/locations/europe-west1/pipelineJobs/kfp-pipeline-heart-20230108134728-20230108134830 current state:\n",
      "PipelineState.PIPELINE_STATE_RUNNING\n"
     ]
    }
   ],
   "source": [
    "response = pipeline.run(\n",
    "    service_account = SERVICE_ACCOUNT\n",
    ")"
   ]
  },
  {
   "cell_type": "markdown",
   "id": "6e4c8e67-bceb-4629-a246-6a6f18a1c530",
   "metadata": {},
   "source": [
    "Visual Representation of the pipeline can be viewed in the colsole:"
   ]
  },
  {
   "cell_type": "code",
   "execution_count": null,
   "id": "bd262fe9-0693-446a-be88-779e15fb0809",
   "metadata": {},
   "outputs": [],
   "source": [
    "print(f\"Review the Pipeline as it runs here:\\nhttps://console.cloud.google.com/vertex-ai/locations/{REGION}/pipelines/runs/{pipeline.resource_name.split('/')[-1]}?project={PROJECT_ID}\")"
   ]
  },
  {
   "cell_type": "markdown",
   "id": "9d982aa6-2999-47f6-92a0-01510050e681",
   "metadata": {},
   "source": [
    "Retrieve the pipeline information:"
   ]
  },
  {
   "cell_type": "code",
   "execution_count": 94,
   "id": "29ff7495",
   "metadata": {},
   "outputs": [
    {
     "data": {
      "text/html": [
       "<div>\n",
       "<style scoped>\n",
       "    .dataframe tbody tr th:only-of-type {\n",
       "        vertical-align: middle;\n",
       "    }\n",
       "\n",
       "    .dataframe tbody tr th {\n",
       "        vertical-align: top;\n",
       "    }\n",
       "\n",
       "    .dataframe thead th {\n",
       "        text-align: right;\n",
       "    }\n",
       "</style>\n",
       "<table border=\"1\" class=\"dataframe\">\n",
       "  <thead>\n",
       "    <tr style=\"text-align: right;\">\n",
       "      <th></th>\n",
       "      <th>pipeline_name</th>\n",
       "      <th>run_name</th>\n",
       "      <th>param.input:deploy_machine</th>\n",
       "      <th>param.input:display_name</th>\n",
       "      <th>param.input:labels</th>\n",
       "      <th>param.input:bq_source</th>\n",
       "      <th>param.input:dataname</th>\n",
       "      <th>param.input:var_omit</th>\n",
       "      <th>param.input:var_target</th>\n",
       "      <th>param.input:project</th>\n",
       "      <th>param.input:features</th>\n",
       "    </tr>\n",
       "  </thead>\n",
       "  <tbody>\n",
       "    <tr>\n",
       "      <th>0</th>\n",
       "      <td>kfp-pipeline-heart-20230108134728</td>\n",
       "      <td>kfp-pipeline-heart-20230108134728-20230108134830</td>\n",
       "      <td>n1-standard-2</td>\n",
       "      <td>pipeline_heart_20230108134728</td>\n",
       "      <td>{\"notebook\": \"pipeline\"}</td>\n",
       "      <td>bq://heart-disease-classification-1.heart.hear...</td>\n",
       "      <td>heart</td>\n",
       "      <td>transaction_id</td>\n",
       "      <td>HeartDiseaseorAttack</td>\n",
       "      <td>heart-disease-classification-1</td>\n",
       "      <td>{\"HighBP\": \"auto\", \"HighChol\": \"auto\", \"CholCh...</td>\n",
       "    </tr>\n",
       "  </tbody>\n",
       "</table>\n",
       "</div>"
      ],
      "text/plain": [
       "                       pipeline_name  \\\n",
       "0  kfp-pipeline-heart-20230108134728   \n",
       "\n",
       "                                           run_name  \\\n",
       "0  kfp-pipeline-heart-20230108134728-20230108134830   \n",
       "\n",
       "  param.input:deploy_machine       param.input:display_name  \\\n",
       "0              n1-standard-2  pipeline_heart_20230108134728   \n",
       "\n",
       "         param.input:labels  \\\n",
       "0  {\"notebook\": \"pipeline\"}   \n",
       "\n",
       "                               param.input:bq_source param.input:dataname  \\\n",
       "0  bq://heart-disease-classification-1.heart.hear...                heart   \n",
       "\n",
       "  param.input:var_omit param.input:var_target             param.input:project  \\\n",
       "0       transaction_id   HeartDiseaseorAttack  heart-disease-classification-1   \n",
       "\n",
       "                                param.input:features  \n",
       "0  {\"HighBP\": \"auto\", \"HighChol\": \"auto\", \"CholCh...  "
      ]
     },
     "execution_count": 94,
     "metadata": {},
     "output_type": "execute_result"
    }
   ],
   "source": [
    "aiplatform.get_pipeline_df(pipeline = f'kfp-{NOTEBOOK}-{DATANAME}-{TIMESTAMP}')"
   ]
  },
  {
   "cell_type": "markdown",
   "id": "1da98787",
   "metadata": {},
   "source": [
    "Evaluate, predict and explain in Vertex AI -> Endpoints"
   ]
  }
 ],
 "metadata": {
  "environment": {
   "kernel": "python3",
   "name": "tf2-gpu.2-8.m102",
   "type": "gcloud",
   "uri": "gcr.io/deeplearning-platform-release/tf2-gpu.2-8:m102"
  },
  "kernelspec": {
   "display_name": "Python 3.10.7 64-bit",
   "language": "python",
   "name": "python3"
  },
  "language_info": {
   "codemirror_mode": {
    "name": "ipython",
    "version": 3
   },
   "file_extension": ".py",
   "mimetype": "text/x-python",
   "name": "python",
   "nbconvert_exporter": "python",
   "pygments_lexer": "ipython3",
   "version": "3.10.7"
  },
  "vscode": {
   "interpreter": {
    "hash": "aee8b7b246df8f9039afb4144a1f6fd8d2ca17a180786b69acc140d282b71a49"
   }
  }
 },
 "nbformat": 4,
 "nbformat_minor": 5
}
